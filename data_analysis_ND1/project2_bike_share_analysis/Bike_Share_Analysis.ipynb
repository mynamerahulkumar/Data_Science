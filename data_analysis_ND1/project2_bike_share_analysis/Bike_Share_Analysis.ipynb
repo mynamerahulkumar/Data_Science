{
 "cells": [
  {
   "cell_type": "markdown",
   "metadata": {},
   "source": [
    "# 2016 US Bike Share Activity Snapshot\n",
    "\n",
    "## Table of Contents\n",
    "- [Introduction](#intro)\n",
    "- [Posing Questions](#pose_questions)\n",
    "- [Data Collection and Wrangling](#wrangling)\n",
    "  - [Condensing the Trip Data](#condensing)\n",
    "- [Exploratory Data Analysis](#eda)\n",
    "  - [Statistics](#statistics)\n",
    "  - [Visualizations](#visualizations)\n",
    "- [Performing Your Own Analysis](#eda_continued)\n",
    "- [Conclusions](#conclusions)\n",
    "\n",
    "<a id='intro'></a>\n",
    "## Introduction\n",
    "\n",
    "> **Tip**: Quoted sections like this will provide helpful instructions on how to navigate and use a Jupyter notebook.\n",
    "\n",
    "Over the past decade, bicycle-sharing systems have been growing in number and popularity in cities across the world. Bicycle-sharing systems allow users to rent bicycles for short trips, typically 30 minutes or less. Thanks to the rise in information technologies, it is easy for a user of the system to access a dock within the system to unlock or return bicycles. These technologies also provide a wealth of data that can be used to explore how these bike-sharing systems are used.\n",
    "\n",
    "In this project, you will perform an exploratory analysis on data provided by [Motivate](https://www.motivateco.com/), a bike-share system provider for many major cities in the United States. You will compare the system usage between three large cities: New York City, Chicago, and Washington, DC. You will also see if there are any differences within each system for those users that are registered, regular users and those users that are short-term, casual users."
   ]
  },
  {
   "cell_type": "markdown",
   "metadata": {},
   "source": [
    "<a id='pose_questions'></a>\n",
    "## Posing Questions\n",
    "\n",
    "Before looking at the bike sharing data, you should start by asking questions you might want to understand about the bike share data. Consider, for example, if you were working for Motivate. What kinds of information would you want to know about in order to make smarter business decisions? If you were a user of the bike-share service, what factors might influence how you would want to use the service?\n",
    "\n",
    "**Question 1**: Write at least two questions related to bike sharing that you think could be answered by data.\n",
    "\n",
    "**Answer**: 1.During which day of the week bike demand is more.So that we can make sure we will enough stock available on that day.\n",
    "2.What is gender and age of people are taking more bikes and which types of bikes .So that we should have more stocks of that bike\n",
    "\n",
    "> **Tip**: If you double click on this cell, you will see the text change so that all of the formatting is removed. This allows you to edit this block of text. This block of text is written using [Markdown](http://daringfireball.net/projects/markdown/syntax), which is a way to format text using headers, links, italics, and many other options using a plain-text syntax. You will also use Markdown later in the Nanodegree program. Use **Shift** + **Enter** or **Shift** + **Return** to run the cell and show its rendered form."
   ]
  },
  {
   "cell_type": "markdown",
   "metadata": {},
   "source": [
    "<a id='wrangling'></a>\n",
    "## Data Collection and Wrangling\n",
    "\n",
    "Now it's time to collect and explore our data. In this project, we will focus on the record of individual trips taken in 2016 from our selected cities: New York City, Chicago, and Washington, DC. Each of these cities has a page where we can freely download the trip data.:\n",
    "\n",
    "- New York City (Citi Bike): [Link](https://www.citibikenyc.com/system-data)\n",
    "- Chicago (Divvy): [Link](https://www.divvybikes.com/system-data)\n",
    "- Washington, DC (Capital Bikeshare): [Link](https://www.capitalbikeshare.com/system-data)\n",
    "\n",
    "If you visit these pages, you will notice that each city has a different way of delivering its data. Chicago updates with new data twice a year, Washington DC is quarterly, and New York City is monthly. **However, you do not need to download the data yourself.** The data has already been collected for you in the `/data/` folder of the project files. While the original data for 2016 is spread among multiple files for each city, the files in the `/data/` folder collect all of the trip data for the year into one file per city. Some data wrangling of inconsistencies in timestamp format within each city has already been performed for you. In addition, a random 2% sample of the original data is taken to make the exploration more manageable. \n",
    "\n",
    "**Question 2**: However, there is still a lot of data for us to investigate, so it's a good idea to start off by looking at one entry from each of the cities we're going to analyze. Run the first code cell below to load some packages and functions that you'll be using in your analysis. Then, complete the second code cell to print out the first trip recorded from each of the cities (the second line of each data file).\n",
    "\n",
    "> **Tip**: You can run a code cell like you formatted Markdown cells above by clicking on the cell and using the keyboard shortcut **Shift** + **Enter** or **Shift** + **Return**. Alternatively, a code cell can be executed using the **Play** button in the toolbar after selecting it. While the cell is running, you will see an asterisk in the message to the left of the cell, i.e. `In [*]:`. The asterisk will change into a number to show that execution has completed, e.g. `In [1]`. If there is output, it will show up as `Out [1]:`, with an appropriate number to match the \"In\" number."
   ]
  },
  {
   "cell_type": "code",
   "execution_count": 11,
   "metadata": {
    "scrolled": true
   },
   "outputs": [],
   "source": [
    "## import all necessary packages and functions.\n",
    "import csv # read and write csv files\n",
    "from datetime import datetime # operations to parse dates\n",
    "import pprint # use to print data structures like dictionaries in\n",
    "                          # a nicer way than the base print function."
   ]
  },
  {
   "cell_type": "code",
   "execution_count": 12,
   "metadata": {
    "scrolled": true
   },
   "outputs": [
    {
     "name": "stdout",
     "output_type": "stream",
     "text": [
      "\n",
      "City: NYC\n",
      "OrderedDict([('tripduration', '839'),\n",
      "             ('starttime', '1/1/2016 00:09:55'),\n",
      "             ('stoptime', '1/1/2016 00:23:54'),\n",
      "             ('start station id', '532'),\n",
      "             ('start station name', 'S 5 Pl & S 4 St'),\n",
      "             ('start station latitude', '40.710451'),\n",
      "             ('start station longitude', '-73.960876'),\n",
      "             ('end station id', '401'),\n",
      "             ('end station name', 'Allen St & Rivington St'),\n",
      "             ('end station latitude', '40.72019576'),\n",
      "             ('end station longitude', '-73.98997825'),\n",
      "             ('bikeid', '17109'),\n",
      "             ('usertype', 'Customer'),\n",
      "             ('birth year', ''),\n",
      "             ('gender', '0')])\n",
      "OrderedDict([('tripduration', '839'), ('starttime', '1/1/2016 00:09:55'), ('stoptime', '1/1/2016 00:23:54'), ('start station id', '532'), ('start station name', 'S 5 Pl & S 4 St'), ('start station latitude', '40.710451'), ('start station longitude', '-73.960876'), ('end station id', '401'), ('end station name', 'Allen St & Rivington St'), ('end station latitude', '40.72019576'), ('end station longitude', '-73.98997825'), ('bikeid', '17109'), ('usertype', 'Customer'), ('birth year', ''), ('gender', '0')])\n",
      "\n",
      "City: Chicago\n",
      "OrderedDict([('trip_id', '9080545'),\n",
      "             ('starttime', '3/31/2016 23:30'),\n",
      "             ('stoptime', '3/31/2016 23:46'),\n",
      "             ('bikeid', '2295'),\n",
      "             ('tripduration', '926'),\n",
      "             ('from_station_id', '156'),\n",
      "             ('from_station_name', 'Clark St & Wellington Ave'),\n",
      "             ('to_station_id', '166'),\n",
      "             ('to_station_name', 'Ashland Ave & Wrightwood Ave'),\n",
      "             ('usertype', 'Subscriber'),\n",
      "             ('gender', 'Male'),\n",
      "             ('birthyear', '1990')])\n",
      "OrderedDict([('trip_id', '9080545'), ('starttime', '3/31/2016 23:30'), ('stoptime', '3/31/2016 23:46'), ('bikeid', '2295'), ('tripduration', '926'), ('from_station_id', '156'), ('from_station_name', 'Clark St & Wellington Ave'), ('to_station_id', '166'), ('to_station_name', 'Ashland Ave & Wrightwood Ave'), ('usertype', 'Subscriber'), ('gender', 'Male'), ('birthyear', '1990')])\n",
      "\n",
      "City: Washington\n",
      "OrderedDict([('Duration (ms)', '427387'),\n",
      "             ('Start date', '3/31/2016 22:57'),\n",
      "             ('End date', '3/31/2016 23:04'),\n",
      "             ('Start station number', '31602'),\n",
      "             ('Start station', 'Park Rd & Holmead Pl NW'),\n",
      "             ('End station number', '31207'),\n",
      "             ('End station', 'Georgia Ave and Fairmont St NW'),\n",
      "             ('Bike number', 'W20842'),\n",
      "             ('Member Type', 'Registered')])\n",
      "OrderedDict([('Duration (ms)', '427387'), ('Start date', '3/31/2016 22:57'), ('End date', '3/31/2016 23:04'), ('Start station number', '31602'), ('Start station', 'Park Rd & Holmead Pl NW'), ('End station number', '31207'), ('End station', 'Georgia Ave and Fairmont St NW'), ('Bike number', 'W20842'), ('Member Type', 'Registered')])\n"
     ]
    }
   ],
   "source": [
    "def print_first_point(filename):\n",
    "    \"\"\"\n",
    "    This function prints and returns the first data point (second row) from\n",
    "    a csv file that includes a header row.\n",
    "    \"\"\"\n",
    "    # print city name for reference\n",
    "    city = filename.split('-')[0].split('/')[-1]\n",
    "    print('\\nCity: {}'.format(city))\n",
    "    \n",
    "    with open(filename, 'r') as f_in:\n",
    "        ## TODO: Use the csv library to set up a DictReader object. ##\n",
    "        ## see https://docs.python.org/3/library/csv.html           ##\n",
    "        trip_reader =csv.DictReader(f_in)\n",
    "        \n",
    "        ## TODO: Use a function on the DictReader object to read the     ##\n",
    "        ## first trip from the data file and store it in a variable.     ##\n",
    "        ## see https://docs.python.org/3/library/csv.html#reader-objects ##\n",
    "        first_trip=next(trip_reader)\n",
    "        ## TODO: Use the pprint library to print the first trip. ##\n",
    "        ## see https://docs.python.org/3/library/pprint.html     ##\n",
    "        \n",
    "        pprint.pprint(first_trip)\n",
    "    # output city name and first trip for later testing\n",
    "    return (city, first_trip)\n",
    "\n",
    "# list of files for each city\n",
    "data_files = ['./data/NYC-CitiBike-2016.csv',\n",
    "              './data/Chicago-Divvy-2016.csv',\n",
    "              './data/Washington-CapitalBikeshare-2016.csv',]\n",
    "\n",
    "# print the first trip from each file, store in dictionary\n",
    "example_trips = {}\n",
    "for data_file in data_files:\n",
    "    city, first_trip = print_first_point(data_file)\n",
    "    example_trips[city] = first_trip\n",
    "    print(first_trip)"
   ]
  },
  {
   "cell_type": "markdown",
   "metadata": {},
   "source": [
    "If everything has been filled out correctly, you should see below the printout of each city name (which has been parsed from the data file name) that the first trip has been parsed in the form of a dictionary. When you set up a `DictReader` object, the first row of the data file is normally interpreted as column names. Every other row in the data file will use those column names as keys, as a dictionary is generated for each row.\n",
    "\n",
    "This will be useful since we can refer to quantities by an easily-understandable label instead of just a numeric index. For example, if we have a trip stored in the variable `row`, then we would rather get the trip duration from `row['duration']` instead of `row[0]`.\n",
    "\n",
    "<a id='condensing'></a>\n",
    "### Condensing the Trip Data\n",
    "\n",
    "It should also be observable from the above printout that each city provides different information. Even where the information is the same, the column names and formats are sometimes different. To make things as simple as possible when we get to the actual exploration, we should trim and clean the data. Cleaning the data makes sure that the data formats across the cities are consistent, while trimming focuses only on the parts of the data we are most interested in to make the exploration easier to work with.\n",
    "\n",
    "You will generate new data files with five values of interest for each trip: trip duration, starting month, starting hour, day of the week, and user type. Each of these may require additional wrangling depending on the city:\n",
    "\n",
    "- **Duration**: This has been given to us in seconds (New York, Chicago) or milliseconds (Washington). A more natural unit of analysis will be if all the trip durations are given in terms of minutes.\n",
    "- **Month**, **Hour**, **Day of Week**: Ridership volume is likely to change based on the season, time of day, and whether it is a weekday or weekend. Use the start time of the trip to obtain these values. The New York City data includes the seconds in their timestamps, while Washington and Chicago do not. The [`datetime`](https://docs.python.org/3/library/datetime.html) package will be very useful here to make the needed conversions.\n",
    "- **User Type**: It is possible that users who are subscribed to a bike-share system will have different patterns of use compared to users who only have temporary passes. Washington divides its users into two types: 'Registered' for users with annual, monthly, and other longer-term subscriptions, and 'Casual', for users with 24-hour, 3-day, and other short-term passes. The New York and Chicago data uses 'Subscriber' and 'Customer' for these groups, respectively. For consistency, you will convert the Washington labels to match the other two.\n",
    "\n",
    "\n",
    "**Question 3a**: Complete the helper functions in the code cells below to address each of the cleaning tasks described above."
   ]
  },
  {
   "cell_type": "code",
   "execution_count": 13,
   "metadata": {
    "scrolled": true
   },
   "outputs": [],
   "source": [
    "def duration_in_mins(datum, city):\n",
    "    \"\"\"\n",
    "    Takes as input a dictionary containing info about a single trip (datum) and\n",
    "    its origin city (city) and returns the trip duration in units of minutes.\n",
    "    \n",
    "    Remember that Washington is in terms of milliseconds while Chicago and NYC\n",
    "    are in terms of seconds. \n",
    "    \n",
    "    HINT: The csv module reads in all of the data as strings, including numeric\n",
    "    values. You will need a function to convert the strings into an appropriate\n",
    "    numeric type when making your transformations.\n",
    "    see https://docs.python.org/3/library/functions.html\n",
    "    \"\"\"\n",
    "    \n",
    "    # YOUR CODE HERE\n",
    "    if(city=='Washington'):\n",
    "        duration=(float((datum['Duration (ms)']))/(60*1000))\n",
    "    else:\n",
    "        duration=(float((datum['tripduration']))/60)\n",
    "    \n",
    "    return duration\n",
    "\n",
    "\n",
    "# Some tests to check that your code works. There should be no output if all of\n",
    "# the assertions pass. The `example_trips` dictionary was obtained from when\n",
    "# you printed the first trip from each of the original data files.\n",
    "tests = {'NYC': 13.9833,\n",
    "         'Chicago': 15.4333,\n",
    "         'Washington': 7.1231}\n",
    "\n",
    "for city in tests:\n",
    "    assert abs(duration_in_mins(example_trips[city], city) - tests[city]) < .001"
   ]
  },
  {
   "cell_type": "code",
   "execution_count": 14,
   "metadata": {
    "scrolled": true
   },
   "outputs": [],
   "source": [
    "import datetime\n",
    "from dateutil import parser\n",
    "day_of_week='Sunday'\n",
    "def time_of_trip(datum, city):\n",
    "    global day_of_week\n",
    "    \"\"\"\n",
    "    Takes as input a dictionary containing info about a single trip (datum) and\n",
    "    its origin city (city) and returns the month, hour, and day of the week in\n",
    "    which the trip was made.\n",
    "    \n",
    "    Remember that NYC includes seconds, while Washington and Chicago do not.\n",
    "    \n",
    "    HINT: You should use the datetime module to parse the original date\n",
    "    strings into a format that is useful for extracting the desired information.\n",
    "    see https://docs.python.org/3/library/datetime.html#strftime-and-strptime-behavior\n",
    "    \"\"\"\n",
    "    # YOUR CODE HERE\n",
    "    if(city=='Washington'):\n",
    "        datetime_obj=datetime.datetime.strptime(datum['Start date'],'%m/%d/%Y %H:%M')\n",
    "    elif(city=='NYC'):\n",
    "        datetime_obj=datetime.datetime.strptime(datum['starttime'],'%m/%d/%Y %H:%M:%S')\n",
    "    else:\n",
    "        datetime_obj=datetime.datetime.strptime(datum['starttime'],'%m/%d/%Y %H:%M')\n",
    "\n",
    "\n",
    "    month=datetime_obj.month\n",
    "    hour=datetime_obj.hour\n",
    "    day=datetime_obj.weekday()\n",
    "    if(day==0):\n",
    "        day_of_week='Monday'\n",
    "    elif(day==1):\n",
    "        day_of_week='Tuesday'\n",
    "    elif(day==2):\n",
    "        day_of_week='Wednesday'\n",
    "    elif(day==3):\n",
    "        day_of_week='Thursday'\n",
    "    elif(day==4):\n",
    "        day_of_week='Friday'\n",
    "    elif(day==5):\n",
    "        day_of_week='Saturday'\n",
    "    elif(day==6):\n",
    "        day_of_week='Sunday'   \n",
    "    return (month, hour, day_of_week)\n",
    "\n",
    "\n",
    "# Some tests to check that your code works. There should be no output if all of\n",
    "# the assertions pass. The `example_trips` dictionary was obtained from when\n",
    "# you printed the first trip from each of the original data files.\n",
    "tests = {'NYC': (1, 0, 'Friday'),\n",
    "         'Chicago': (3, 23, 'Thursday'),\n",
    "         'Washington': (3, 22, 'Thursday')}\n",
    "\n",
    "for city in tests:\n",
    "    assert time_of_trip(example_trips[city], city) == tests[city]"
   ]
  },
  {
   "cell_type": "code",
   "execution_count": 15,
   "metadata": {
    "scrolled": true
   },
   "outputs": [],
   "source": [
    "user_type='sf'\n",
    "def type_of_user(datum, city):\n",
    "    \"\"\"\n",
    "    Takes as input a dictionary containing info about a single trip (datum) and\n",
    "    its origin city (city) and returns the type of system user that made the\n",
    "    trip.\n",
    "    \n",
    "    Remember that Washington has different category names compared to Chicago\n",
    "    and NYC. \n",
    "    \"\"\"\n",
    "    global user_type\n",
    "    # YOUR CODE HERE\n",
    "    if(city=='Washington'):\n",
    "        user_type=datum['Member Type']\n",
    "        if(user_type=='Registered'):\n",
    "            user_type='Subscriber'\n",
    "        else:\n",
    "            user_type='Customer'\n",
    "    else:\n",
    "        user_type=datum['usertype']\n",
    "    return user_type\n",
    "    \n",
    "         \n",
    "\n",
    "\n",
    "# Some tests to check that your code works. There should be no output if all of\n",
    "# the assertions pass. The `example_trips` dictionary was obtained from when\n",
    "# you printed the first trip from each of the original data files.\n",
    "tests = {'NYC': 'Customer',\n",
    "         'Chicago': 'Subscriber',\n",
    "         'Washington': 'Subscriber'}\n",
    "\n",
    "for city in tests:\n",
    "    assert type_of_user(example_trips[city], city) == tests[city]"
   ]
  },
  {
   "cell_type": "markdown",
   "metadata": {},
   "source": [
    "**Question 3b**: Now, use the helper functions you wrote above to create a condensed data file for each city consisting only of the data fields indicated above. In the `/examples/` folder, you will see an example datafile from the [Bay Area Bike Share](http://www.bayareabikeshare.com/open-data) before and after conversion. Make sure that your output is formatted to be consistent with the example file."
   ]
  },
  {
   "cell_type": "code",
   "execution_count": 16,
   "metadata": {
    "scrolled": true
   },
   "outputs": [],
   "source": [
    "new_point={}\n",
    "def condense_data(in_file, out_file, city):\n",
    "    \"\"\"\n",
    "    This function takes full data from the specified input file\n",
    "    and writes the condensed data to a specified output file. The city\n",
    "    argument determines how the input file will be parsed.\n",
    "    \n",
    "    HINT: See the cell below to see how the arguments are structured!\n",
    "    \"\"\"\n",
    "    \n",
    "    with open(out_file, 'w') as f_out, open(in_file, 'r') as f_in:\n",
    "        # set up csv DictWriter object - writer requires column names for the\n",
    "        # first row as the \"fieldnames\" argument\n",
    "        out_colnames = ['duration', 'month', 'hour', 'day_of_week', 'user_type']        \n",
    "        trip_writer = csv.DictWriter(f_out, fieldnames = out_colnames)\n",
    "        trip_writer.writeheader()\n",
    "        \n",
    "        ## TODO: set up csv DictReader object ##\n",
    "        trip_reader = csv.DictReader(f_in)\n",
    "\n",
    "        # collect data from and process each row\n",
    "        for row in trip_reader:\n",
    "            # set up a dictionary to hold the values for the cleaned and trimmed\n",
    "            # data point\n",
    "            global new_point\n",
    "            new_point = {}\n",
    "            if(city=='Washington'):\n",
    "                datetime_obj=datetime.datetime.strptime(row['Start date'],'%m/%d/%Y %H:%M')\n",
    "            elif(city=='Chicago'):\n",
    "                datetime_obj=datetime.datetime.strptime(row['starttime'],'%m/%d/%Y %H:%M')\n",
    "            else:\n",
    "                datetime_obj=datetime.datetime.strptime(row['starttime'],'%m/%d/%Y %H:%M:%S')\n",
    "            month=datetime_obj.month\n",
    "            hour=datetime_obj.hour\n",
    "            day=datetime_obj.weekday()\n",
    "            if(day==0):\n",
    "                day_of_week='Monday'\n",
    "            elif(day==1):\n",
    "                day_of_week='Tuesday'\n",
    "            elif(day==2):\n",
    "                day_of_week='Wednesday'\n",
    "            elif(day==3):\n",
    "                day_of_week='Thursday'\n",
    "            elif(day==4):\n",
    "                day_of_week='Friday'\n",
    "            elif(day==5):\n",
    "                day_of_week='Saturday'\n",
    "            elif(day==6):\n",
    "                day_of_week='Sunday' \n",
    "            if(city=='Washington'):\n",
    "                dur=row['Duration (ms)']\n",
    "            else:\n",
    "                dur=row['tripduration']\n",
    "           # newpoint.append(month)\n",
    "           # newpoint.append(hour)\n",
    "           # newpoint.append(day_of_week)\n",
    "           # print(month,hour,day_of_week)\n",
    "            if(city=='Washington'):\n",
    "                type_mem=row['Member Type']\n",
    "            else: \n",
    "                type_mem=row['usertype']\n",
    "            new_point['duration']=dur\n",
    "            new_point['month']=month\n",
    "            new_point['hour']=hour\n",
    "            new_point['day_of_week']=day_of_week\n",
    "            new_point['user_type']=type_mem\n",
    "            #print(new_point)\n",
    "            trip_writer.writerow(new_point)\n",
    "        #trip_writer.close()\n",
    "\n",
    "            ## TODO: use the helper functions to get the cleaned data from  ##\n",
    "            ## the original data dictionaries.                              ##\n",
    "            ## Note that the keys for the new_point dictionary should match ##\n",
    "            ## the column names set in the DictWriter object above.         ##\n",
    "            \n",
    "\n",
    "            ## TODO: write the processed information to the output file.     ##\n",
    "            ## see https://docs.python.org/3/library/csv.html#writer-objects ##\n",
    "            \n",
    "            "
   ]
  },
  {
   "cell_type": "code",
   "execution_count": 17,
   "metadata": {
    "scrolled": true
   },
   "outputs": [
    {
     "name": "stdout",
     "output_type": "stream",
     "text": [
      "\n",
      "City: Washington\n",
      "OrderedDict([('duration', '427387'),\n",
      "             ('month', '3'),\n",
      "             ('hour', '22'),\n",
      "             ('day_of_week', 'Thursday'),\n",
      "             ('user_type', 'Registered')])\n",
      "\n",
      "City: Chicago\n",
      "OrderedDict([('duration', '926'),\n",
      "             ('month', '3'),\n",
      "             ('hour', '23'),\n",
      "             ('day_of_week', 'Thursday'),\n",
      "             ('user_type', 'Subscriber')])\n",
      "\n",
      "City: NYC\n",
      "OrderedDict([('duration', '839'),\n",
      "             ('month', '1'),\n",
      "             ('hour', '0'),\n",
      "             ('day_of_week', 'Friday'),\n",
      "             ('user_type', 'Customer')])\n"
     ]
    }
   ],
   "source": [
    "# Run this cell to check your work\n",
    "city_info = {'Washington': {'in_file': './data/Washington-CapitalBikeshare-2016.csv',\n",
    "                            'out_file': './data/Washington-2016-Summary.csv'},\n",
    "             'Chicago': {'in_file': './data/Chicago-Divvy-2016.csv',\n",
    "                         'out_file': './data/Chicago-2016-Summary.csv'},\n",
    "             'NYC': {'in_file': './data/NYC-CitiBike-2016.csv',\n",
    "                     'out_file': './data/NYC-2016-Summary.csv'}}\n",
    "\n",
    "for city, filenames in city_info.items():\n",
    "    condense_data(filenames['in_file'], filenames['out_file'], city)\n",
    "    print_first_point(filenames['out_file'])"
   ]
  },
  {
   "cell_type": "markdown",
   "metadata": {},
   "source": [
    "> **Tip**: If you save a jupyter Notebook, the output from running code blocks will also be saved. However, the state of your workspace will be reset once a new session is started. Make sure that you run all of the necessary code blocks from your previous session to reestablish variables and functions before picking up where you last left off.\n",
    "\n",
    "<a id='eda'></a>\n",
    "## Exploratory Data Analysis\n",
    "\n",
    "Now that you have the data collected and wrangled, you're ready to start exploring the data. In this section you will write some code to compute descriptive statistics from the data. You will also be introduced to the `matplotlib` library to create some basic histograms of the data.\n",
    "\n",
    "<a id='statistics'></a>\n",
    "### Statistics\n",
    "\n",
    "First, let's compute some basic counts. The first cell below contains a function that uses the csv module to iterate through a provided data file, returning the number of trips made by subscribers and customers. The second cell runs this function on the example Bay Area data in the `/examples/` folder. Modify the cells to answer the question below.\n",
    "\n",
    "**Question 4a**: Which city has the highest number of trips? Which city has the highest proportion of trips made by subscribers? Which city has the highest proportion of trips made by short-term customers?\n",
    "\n",
    "**Answer**: Washington: total 66326  Subscriber- 51753  Customer- 14573\n",
    "\n",
    "Newyork: total 276798  Subscriber- 245896  Customer- 30902\n",
    "\n",
    "Chicago: total 72131  Subscriber- 54982  Customer- 17149\n",
    "\n",
    "Newyork has the highest number of trips \n",
    "\n",
    "Newyork has the highest proportion of trips made by subscribers\n",
    "\n",
    "Chicago has the highest proportion of trips made by short-term customers "
   ]
  },
  {
   "cell_type": "code",
   "execution_count": 18,
   "metadata": {
    "scrolled": true
   },
   "outputs": [],
   "source": [
    "def number_of_trips(filename):\n",
    "    \"\"\"\n",
    "    This function reads in a file with trip data and reports the number of\n",
    "    trips made by subscribers, customers, and total overall.\n",
    "    \"\"\"\n",
    "    with open(filename, 'r') as f_in:\n",
    "        # set up csv reader object\n",
    "        reader = csv.DictReader(f_in)\n",
    "        \n",
    "        # initialize count variables\n",
    "        subscribers = 0\n",
    "        customers = 0\n",
    "        \n",
    "        # tally up ride types\n",
    "        for row in reader:\n",
    "            if row['user_type'] == 'Subscriber' or row['user_type']=='Registered':\n",
    "                subscribers += 1\n",
    "            else:\n",
    "                customers += 1\n",
    "        \n",
    "        # compute total number of rides\n",
    "        total = subscribers + customers\n",
    "        \n",
    "        # return tallies as a tuple\n",
    "        return(total, subscribers, customers)"
   ]
  },
  {
   "cell_type": "code",
   "execution_count": 19,
   "metadata": {
    "scrolled": true
   },
   "outputs": [
    {
     "name": "stdout",
     "output_type": "stream",
     "text": [
      "Washington: total 66326  Subscriber- 51753  Customer- 14573\n",
      "Newyork: total 276798  Subscriber- 245896  Customer- 30902\n",
      "Chicago: total 72131  Subscriber- 54982  Customer- 17149\n",
      "Newyork has the highest number of trips \n",
      "Newyork has the highest proportion of trips made by subscribers\n",
      "Chicago has the highest proportion of trips made by short-term customers \n"
     ]
    }
   ],
   "source": [
    "## Modify this and the previous cell to answer Question 4a. Remember to run ##\n",
    "## the function on the cleaned data files you created from Question 3.      ##\n",
    "data_file_washington='./data/Washington-2016-Summary.csv'\n",
    "data_file_newyork='./data/NYC-2016-Summary.csv'\n",
    "data_file_chicago='./data/Chicago-2016-Summary.csv'\n",
    "#data_file = './examples/BayArea-Y3-Summary.csv'\n",
    "total_washington,subsribcer_washington,customer_washington=number_of_trips(data_file_washington)\n",
    "print(\"Washington: total\",total_washington,\" Subscriber-\",subsribcer_washington,\" Customer-\",customer_washington)\n",
    "\n",
    "total_Newyork,subscriber_Newyork,customer_Newyork=number_of_trips(data_file_newyork)\n",
    "print(\"Newyork: total\",total_Newyork,\" Subscriber-\",subscriber_Newyork,\" Customer-\",customer_Newyork)\n",
    "\n",
    "total_Chicago,subscriber_Chicago,customer_Chicago=number_of_trips(data_file_chicago)\n",
    "print(\"Chicago: total\",total_Chicago,\" Subscriber-\",subscriber_Chicago,\" Customer-\",customer_Chicago)\n",
    "\n",
    "#let us assume max is washington\n",
    "max_total=total_washington\n",
    "max_total_city='Washington'\n",
    "\n",
    "#proportion of subcriber(w-washington,n-newyork,c-chicago)\n",
    "proportion_subscriber_washington=(subsribcer_washington)/(total_washington)\n",
    "proportion_subscriber_newyork=(subscriber_Newyork)/(total_Newyork)\n",
    "proportion_subsriber_chicago=(subscriber_Chicago)/(total_Chicago)\n",
    "#proportion of customer(w-washington,n-newyork,c-chicago)\n",
    "proportion_customer_washigton=(customer_washington)/(total_washington)\n",
    "proportion_customer_newyork=(customer_Newyork)/(total_Newyork)\n",
    "proportion_customer_chicago=(customer_Chicago)/(customer_Chicago)\n",
    "#let us assume max proportion for customer is washington\n",
    "\n",
    "max_subsriber_proportion=proportion_subscriber_washington\n",
    "max_subsriber_city='Washington'\n",
    "#let us assume has max propotion for subscriber \n",
    "max_customer_proportion=proportion_customer_washigton\n",
    "max_customer_city='Washington'\n",
    "\n",
    "if(total_Newyork>max_total):\n",
    "    max_total_city='Newyork'\n",
    "    max_total=total_Newyork\n",
    "if(total_Chicago>max_total):\n",
    "    max_total_city='Chicago'\n",
    "    max_total=total_Chicago\n",
    "#max subscriber\n",
    "if(proportion_subscriber_newyork>max_subsriber_proportion):\n",
    "    max_subsriber_city='Newyork'\n",
    "    max_subsriber_proportion=proportion_subscriber_newyork\n",
    "if(proportion_subsriber_chicago>max_subsriber_proportion):\n",
    "    max_subsriber_city='Chicago'\n",
    "    max_subsriber_proportion=proportion_subsriber_chicago\n",
    "#max customer   \n",
    "if(proportion_customer_newyork>max_customer_proportion):\n",
    "    max_customer_city='Newyork'\n",
    "    max_customer_proportion=proportion_customer_newyork\n",
    "if(proportion_customer_chicago>max_customer_proportion):\n",
    "    max_customer_city='Chicago'\n",
    "    max_customer_proportion=proportion_customer_chicago\n",
    "print(max_total_city,\"has the highest number of trips \")\n",
    "print(max_subsriber_city,\"has the highest proportion of trips made by subscribers\")\n",
    "print(max_customer_city,\"has the highest proportion of trips made by short-term customers \")\n",
    "\n",
    "\n"
   ]
  },
  {
   "cell_type": "markdown",
   "metadata": {},
   "source": [
    "> **Tip**: In order to add additional cells to a notebook, you can use the \"Insert Cell Above\" and \"Insert Cell Below\" options from the menu bar above. There is also an icon in the toolbar for adding new cells, with additional icons for moving the cells up and down the document. By default, new cells are of the code type; you can also specify the cell type (e.g. Code or Markdown) of selected cells from the Cell menu or the dropdown in the toolbar.\n",
    "\n",
    "Now, you will write your own code to continue investigating properties of the data.\n",
    "\n",
    "**Question 4b**: Bike-share systems are designed for riders to take short trips. Most of the time, users are allowed to take trips of 30 minutes or less with no additional charges, with overage charges made for trips of longer than that duration. What is the average trip length for each city? What proportion of rides made in each city are longer than 30 minutes?\n",
    "\n",
    "**Answer**: Newyork:the average trip length is  15.8126  minutes and  0.073 % of trips are longer than 30 minutes.\n",
    "\n",
    "Chicago:the average trip length is  16.5636  minutes and  0.0833 % of trips are longer than 30 minutes.\n",
    "\n",
    "Washington:the average trip length is  18.9329  minutes and  0.1084 % of trips are longer than 30 minutes."
   ]
  },
  {
   "cell_type": "code",
   "execution_count": 24,
   "metadata": {},
   "outputs": [],
   "source": [
    "def dur_in_mins(duration, city):\n",
    "    \"\"\"\n",
    "    Takes as input a dictionary containing info about a single trip (datum) and\n",
    "    its origin city (city) and returns the trip duration in units of minutes.\n",
    "    \n",
    "    Remember that Washington is in terms of milliseconds while Chicago and NYC\n",
    "    are in terms of seconds. \n",
    "    \n",
    "    HINT: The csv module reads in all of the data as strings, including numeric\n",
    "    values. You will need a function to convert the strings into an appropriate\n",
    "    numeric type when making your transformations.\n",
    "    see https://docs.python.org/3/library/functions.html\n",
    "    \"\"\"\n",
    "    \n",
    "    # YOUR CODE HERE\n",
    "    if(city=='Washington'):\n",
    "        duration=(float(duration)/(60*1000))\n",
    "    else:\n",
    "        duration=(float(duration)/60)\n",
    "    \n",
    "    return duration\n",
    "\n"
   ]
  },
  {
   "cell_type": "code",
   "execution_count": 25,
   "metadata": {
    "scrolled": false
   },
   "outputs": [
    {
     "name": "stdout",
     "output_type": "stream",
     "text": [
      "Newyork:the average trip length is  15.8126  minutes and  0.073 % of trips are longer than 30 minutes.\n",
      "Chicago:the average trip length is  16.5636  minutes and  0.0833 % of trips are longer than 30 minutes.\n",
      "Washington:the average trip length is  18.9329  minutes and  0.1084 % of trips are longer than 30 minutes.\n"
     ]
    }
   ],
   "source": [
    "## Use this and additional cells to answer Question 4b.                 ##\n",
    "##                                                                      ##\n",
    "## HINT: The csv module reads in all of the data as strings, including  ##\n",
    "## numeric values. You will need a function to convert the strings      ##\n",
    "## into an appropriate numeric type before you aggregate data.          ##\n",
    "## TIP: For the Bay Area example, the average trip length is 14 minutes ##\n",
    "## and 3.5% of trips are longer than 30 minutes.  \n",
    "\n",
    "data_file_washington='./data/Washington-2016-Summary.csv'\n",
    "data_file_newyork='./data/NYC-2016-Summary.csv'\n",
    "data_file_chicago='./data/Chicago-2016-Summary.csv'\n",
    "def total_duration(filename,city):\n",
    "    with open(filename,'r') as f_in:\n",
    "        reader=csv.DictReader(f_in)\n",
    "        total_dur_min=0\n",
    "        #count the total duration in min(newyrork,chicago in sec)\n",
    "        count=0\n",
    "        for row in reader:\n",
    "           # print(row['duration'])\n",
    "            count=count+1\n",
    "            if row['duration'].isdigit():\n",
    "                total_dur_min+=dur_in_mins(row['duration'],city)\n",
    "    return total_dur_min,count\n",
    "def total_duration_washington(filename,city):\n",
    "    with open(filename,'r') as f_in:\n",
    "        reader=csv.DictReader(f_in)\n",
    "        count=0\n",
    "        total_dur_min=0\n",
    "        #count the total duration in min(washington ms)\n",
    "        for row in reader:\n",
    "            count=count+1\n",
    "            if row['duration'].isdigit():\n",
    "                total_dur_min+=dur_in_mins(row['duration'],city)\n",
    "    return total_dur_min,count\n",
    "\n",
    "    #\n",
    "def total_count_greaterThan_30min(filename,city):\n",
    "    with open(filename,'r') as f_in:\n",
    "        reader=csv.DictReader(f_in)\n",
    "        count=0\n",
    "        #count the total duration in min(newyrork,chicago in sec,washington ms)\n",
    "        for row in reader:\n",
    "            if row['duration'].isdigit():\n",
    "                duration=dur_in_mins(row['duration'],city)\n",
    "                if(duration>30):\n",
    "                    count+=1        \n",
    "    return count\n",
    "def total_count_greater_30min_washington(filename,city):\n",
    "    with open(filename,'r') as f_in:\n",
    "        reader=csv.DictReader(f_in)\n",
    "        count=0\n",
    "        #count the total duration in min(newyrork,chicago in sec,washington ms)\n",
    "        for row in reader:\n",
    "            if row['duration'].isdigit():\n",
    "                duration=dur_in_mins(row['duration'],city)\n",
    "                if(duration>30):\n",
    "                    count+=1\n",
    "    return count\n",
    "total_dur,toatal_count=total_duration(data_file_newyork,'NewYork')\n",
    "count_greaterThan_30Min=total_count_greaterThan_30min(data_file_newyork,'NewYork')\n",
    "#newyork proportion\n",
    "pro=(count_greaterThan_30Min/toatal_count)\n",
    "print(\"Newyork:the average trip length is \",round(total_dur/toatal_count,4),\" minutes and \",round(pro,4),\"% of trips are longer than 30 minutes.\")\n",
    "\n",
    "\n",
    "total_dur,toatal_count=total_duration(data_file_chicago,'Chicago')\n",
    "count_greaterThan_30Min=total_count_greaterThan_30min(data_file_chicago,'Chicago')\n",
    "#chicago proportion\n",
    "pro=(count_greaterThan_30Min/toatal_count)\n",
    "print(\"Chicago:the average trip length is \",round(total_dur/toatal_count,4),\" minutes and \",round(pro,4),\"% of trips are longer than 30 minutes.\")\n",
    "\n",
    "\n",
    "total_dur,toatal_count= total_duration_washington(data_file_washington,'Washington')\n",
    "count_greaterThan_30Min= total_count_greater_30min_washington(data_file_washington,'Washington')\n",
    "#Washington proportion\n",
    "pro=(count_greaterThan_30Min/toatal_count)\n",
    "print(\"Washington:the average trip length is \",round(total_dur/toatal_count,4),\" minutes and \", round(pro,4),\"% of trips are longer than 30 minutes.\")\n",
    "\n",
    "\n",
    "\n",
    "    \n"
   ]
  },
  {
   "cell_type": "markdown",
   "metadata": {},
   "source": [
    "**Question 4c**: Dig deeper into the question of trip duration based on ridership. Choose one city. Within that city, which type of user takes longer rides on average: Subscribers or Customers?\n",
    "\n",
    "**Answer**: Newyork Customer takes longer rides on average(min): 32.982\n",
    "\n"
   ]
  },
  {
   "cell_type": "code",
   "execution_count": 26,
   "metadata": {
    "scrolled": true
   },
   "outputs": [
    {
     "name": "stdout",
     "output_type": "stream",
     "text": [
      "Newyork Customer takes longer rides on average(min): 32.982\n"
     ]
    }
   ],
   "source": [
    "## Use this and additional cells to answer Question 4c. If you have    ##\n",
    "## not done so yet, consider revising some of your previous code to    ##\n",
    "## make use of functions for reusability.                              ##\n",
    "##                                                                     ##\n",
    "## TIP: For the Bay Area example data, you should find the average     ##\n",
    "## Subscriber trip duration to be 9.5 minutes and the average Customer ##\n",
    "## trip duration to be 54.6 minutes. Do the other cities have this     ##\n",
    "## level of difference?  \n",
    "## Use this and additional cells to answer Question 4b.                 ##\n",
    "##                                                                      ##\n",
    "## HINT: The csv module reads in all of the data as strings, including  ##\n",
    "## numeric values. You will need a function to convert the strings      ##\n",
    "## into an appropriate numeric type before you aggregate data.          ##\n",
    "## TIP: For the Bay Area example, the average trip length is 14 minutes ##\n",
    "## and 3.5% of trips are longer than 30 minutes.  \n",
    "\n",
    "\n",
    "data_file_newyork='./data/NYC-2016-Summary.csv'\n",
    "\n",
    "def total_duration(filename):\n",
    "    with open(filename,'r') as f_in:\n",
    "        reader=csv.DictReader(f_in)\n",
    "        dur_min=0\n",
    "        total_dur_sub=0\n",
    "        total_dur_cus=0\n",
    "        countSub=0;\n",
    "        countCus=0;\n",
    "        #count the total duration in min(newyrork,chicago in sec,washington ms)\n",
    "        for row in reader:\n",
    "            dur_min=float(row['duration'])/(60)\n",
    "            if(row['user_type']=='Customer'):\n",
    "                total_dur_cus+=dur_min\n",
    "                countCus+=1\n",
    "            else:\n",
    "                total_dur_sub+=dur_min\n",
    "                countSub+=1\n",
    "                \n",
    "    #print(total_dur_cus,total_dur_sub)           \n",
    "    return total_dur_cus,total_dur_sub,countCus,countSub\n",
    "\n",
    "#Take average of subscriber and customer\n",
    "total_dur_customer,total_dur_subscriber,countCus,countSub=total_duration(data_file_newyork)\n",
    "avg_dur_cus=total_dur_customer/countCus\n",
    "avg_dur_sub=total_dur_subscriber/countSub\n",
    "#print(total_dur_customer,total_dur_subscriber)\n",
    "if(avg_dur_cus>avg_dur_sub):\n",
    "    print(\"Newyork Customer takes longer rides on average(min):\",round(avg_dur_cus,4))\n",
    "else:\n",
    "    print(\"Newyork Subscriber takes longer rides on average(min):\",round(avg_dur_sub,4))\n",
    "\n",
    "\n",
    "\n",
    "\n",
    "\n"
   ]
  },
  {
   "cell_type": "markdown",
   "metadata": {},
   "source": [
    "<a id='visualizations'></a>\n",
    "### Visualizations\n",
    "\n",
    "The last set of values that you computed should have pulled up an interesting result. While the mean trip time for Subscribers is well under 30 minutes, the mean trip time for Customers is actually _above_ 30 minutes! It will be interesting for us to look at how the trip times are distributed. In order to do this, a new library will be introduced here, `matplotlib`. Run the cell below to load the library and to generate an example plot."
   ]
  },
  {
   "cell_type": "code",
   "execution_count": 27,
   "metadata": {
    "scrolled": false
   },
   "outputs": [
    {
     "data": {
      "image/png": "[encoded data removed]",
      "text/plain": [
       "<matplotlib.figure.Figure at 0x7f4ac46caef0>"
      ]
     },
     "metadata": {},
     "output_type": "display_data"
    }
   ],
   "source": [
    "# load library\n",
    "import matplotlib.pyplot as plt\n",
    "\n",
    "# this is a 'magic word' that allows for plots to be displayed\n",
    "# inline with the notebook. If you want to know more, see:\n",
    "# http://ipython.readthedocs.io/en/stable/interactive/magics.html\n",
    "%matplotlib inline \n",
    "\n",
    "# example histogram, data taken from bay area sample\n",
    "data = [ 7.65,  8.92,  7.42,  5.50, 16.17,  4.20,  8.98,  9.62, 11.48, 14.33,\n",
    "        19.02, 21.53,  3.90,  7.97,  2.62,  2.67,  3.08, 14.40, 12.90,  7.83,\n",
    "        25.12,  8.30,  4.93, 12.43, 10.60,  6.17, 10.88,  4.78, 15.15,  3.53,\n",
    "         9.43, 13.32, 11.72,  9.85,  5.22, 15.10,  3.95,  3.17,  8.78,  1.88,\n",
    "         4.55, 12.68, 12.38,  9.78,  7.63,  6.45, 17.38, 11.90, 11.52,  8.63,]\n",
    "plt.hist(data)\n",
    "plt.title('Distribution of Trip Durations')\n",
    "plt.xlabel('Duration (m)')\n",
    "plt.show()"
   ]
  },
  {
   "cell_type": "markdown",
   "metadata": {},
   "source": [
    "In the above cell, we collected fifty trip times in a list, and passed this list as the first argument to the `.hist()` function. This function performs the computations and creates plotting objects for generating a histogram, but the plot is actually not rendered until the `.show()` function is executed. The `.title()` and `.xlabel()` functions provide some labeling for plot context.\n",
    "\n",
    "You will now use these functions to create a histogram of the trip times for the city you selected in question 4c. Don't separate the Subscribers and Customers for now: just collect all of the trip times and plot them."
   ]
  },
  {
   "cell_type": "code",
   "execution_count": 28,
   "metadata": {
    "scrolled": true
   },
   "outputs": [
    {
     "data": {
      "image/png": "[encoded data removed]",
      "text/plain": [
       "<matplotlib.figure.Figure at 0x7f4ac461c8d0>"
      ]
     },
     "metadata": {},
     "output_type": "display_data"
    }
   ],
   "source": [
    "## Use this and additional cells to collect all of the trip times as a list ##\n",
    "## and then use pyplot functions to generate a histogram of trip times.     ##\n",
    "import matplotlib.pyplot as plt\n",
    "data_file_newyork='./data/NYC-2016-Summary.csv'\n",
    "def total_time(filename):\n",
    "    with open(filename,'r')as f_in:\n",
    "            reader=csv.DictReader(f_in)\n",
    "            time_dur=[]\n",
    "            for row in reader:\n",
    "                time_dur.append(float(row['duration'])/60)\n",
    "    return time_dur\n",
    "#print(total_time(data_file_newyork))\n",
    "plt.hist(total_time(data_file_newyork))\n",
    "plt.title(\"Distribution of trip duration new york\")\n",
    "plt.xlabel(\"Duration(m)\")\n",
    "plt.show()\n",
    "\n",
    "\n",
    "\n"
   ]
  },
  {
   "cell_type": "markdown",
   "metadata": {},
   "source": [
    "If you followed the use of the `.hist()` and `.show()` functions exactly like in the example, you're probably looking at a plot that's completely unexpected. The plot consists of one extremely tall bar on the left, maybe a very short second bar, and a whole lot of empty space in the center and right. Take a look at the duration values on the x-axis. This suggests that there are some highly infrequent outliers in the data. Instead of reprocessing the data, you will use additional parameters with the `.hist()` function to limit the range of data that is plotted. Documentation for the function can be found [[here]](https://matplotlib.org/devdocs/api/_as_gen/matplotlib.pyplot.hist.html#matplotlib.pyplot.hist).\n",
    "\n",
    "**Question 5**: Use the parameters of the `.hist()` function to plot the distribution of trip times for the Subscribers in your selected city. Do the same thing for only the Customers. Add limits to the plots so that only trips of duration less than 75 minutes are plotted. As a bonus, set the plots up so that bars are in five-minute wide intervals. For each group, where is the peak of each distribution? How would you describe the shape of each distribution?\n",
    "\n",
    "**Answer**: Distribution of customer trip duration Newyork:-\n",
    "\n",
    "This is skewed right graph .We can say that more number customer trip of Newyork are less than 30 min.It is bimodal ,since it has two peaks between 15 min to 25 min on x axis.It tells that during this time the demand of cycle is more .Very few customer are using bicycle for longer duration that is greater than 40 min.It means most of the customer are using bicycle for shorter duration.\n",
    "\n",
    "Distribution of Subscriber trip duration Newyork:-\n",
    "\n",
    "This is also skewed right graph.We can say that more number of Subscriber trip of Newyork are less than 20 min.It is unimodal ,since it has one peak.We can say that more number of Subscriber are taking bicycle for around 10 min.\n",
    "Very few customer are using bicycle for longer duration that is greater than 30 min.It means most of the Subscriber are using bicycle for shorter duration.\n",
    "\n"
   ]
  },
  {
   "cell_type": "code",
   "execution_count": 29,
   "metadata": {
    "scrolled": false
   },
   "outputs": [
    {
     "data": {
      "image/png": "[encoded data removed]",
      "text/plain": [
       "<matplotlib.figure.Figure at 0x7f4aa6ecd6d8>"
      ]
     },
     "metadata": {},
     "output_type": "display_data"
    },
    {
     "data": {
      "image/png": "[encoded data removed]",
      "text/plain": [
       "<matplotlib.figure.Figure at 0x7f4aa6758fd0>"
      ]
     },
     "metadata": {},
     "output_type": "display_data"
    }
   ],
   "source": [
    "## Use this and additional cells to answer Question 5. ##\n",
    "#%matplotlib notebook\n",
    "import matplotlib.pyplot as plt\n",
    "import numpy as np\n",
    "data_file_newyork='./data/NYC-2016-Summary.csv'\n",
    "\n",
    "def total_duration(filename):\n",
    "    with open(filename,'r') as f_in:\n",
    "        reader=csv.DictReader(f_in)\n",
    "        dur_min=0\n",
    "        total_dur_sub=[]\n",
    "        total_dur_cus=[]\n",
    "        #count the total duration in min(newyrork,chicago in sec,washington ms)\n",
    "        for row in reader:\n",
    "            dur_min=row['duration']\n",
    "            if(row['user_type']=='Customer'):\n",
    "                total_dur_cus.append(float(dur_min)/60)\n",
    "            else:\n",
    "                total_dur_sub.append(float(dur_min)/60)\n",
    "                \n",
    "    #print(total_dur_cus,total_dur_sub)           \n",
    "    return total_dur_cus,total_dur_sub\n",
    "total_dur_cus,total_dur_sub=total_duration(data_file_newyork)\n",
    "#bin_subscribers=int(float(max(total_dur_sub))/5)\n",
    "#bin_customers=int(float(max(total_dur_cus))/5)\n",
    "#print(total_dur_cus)\n",
    "#plt.clf()\n",
    "\n",
    "plt.hist(total_dur_cus,bins=15,range=[0,75],color='green')\n",
    "plt.title(\"Distribution of CUSTOMER trip duration new york\")\n",
    "plt.xlabel(\"Duration(m)\")\n",
    "plt.show()\n",
    "\n",
    "#plt.clf()\n",
    "\n",
    "plt.hist(total_dur_sub,color='red',bins=15,range=[0,75])\n",
    "plt.title(\"Distribution of SUBSCRIBER trip duration new york\")\n",
    "plt.xlabel(\"Duration(m)\")\n",
    "plt.show()\n",
    "\n"
   ]
  },
  {
   "cell_type": "markdown",
   "metadata": {
    "collapsed": true
   },
   "source": [
    "<a id='eda_continued'></a>\n",
    "## Performing Your Own Analysis\n",
    "\n",
    "So far, you've performed an initial exploration into the data available. You have compared the relative volume of trips made between three U.S. cities and the ratio of trips made by Subscribers and Customers. For one of these cities, you have investigated differences between Subscribers and Customers in terms of how long a typical trip lasts. Now it is your turn to continue the exploration in a direction that you choose. Here are a few suggestions for questions to explore:\n",
    "\n",
    "- How does ridership differ by month or season? Which month / season has the highest ridership? Does the ratio of Subscriber trips to Customer trips change depending on the month or season?\n",
    "- Is the pattern of ridership different on the weekends versus weekdays? On what days are Subscribers most likely to use the system? What about Customers? Does the average duration of rides change depending on the day of the week?\n",
    "- During what time of day is the system used the most? Is there a difference in usage patterns for Subscribers and Customers?\n",
    "\n",
    "If any of the questions you posed in your answer to question 1 align with the bullet points above, this is a good opportunity to investigate one of them. As part of your investigation, you will need to create a visualization. If you want to create something other than a histogram, then you might want to consult the [Pyplot documentation](https://matplotlib.org/devdocs/api/pyplot_summary.html). In particular, if you are plotting values across a categorical variable (e.g. city, user type), a bar chart will be useful. The [documentation page for `.bar()`](https://matplotlib.org/devdocs/api/_as_gen/matplotlib.pyplot.bar.html#matplotlib.pyplot.bar) includes links at the bottom of the page with examples for you to build off of for your own use.\n",
    "\n",
    "**Question 6**: Continue the investigation by exploring another question that could be answered by the data available. Document the question you want to explore below. Your investigation should involve at least two variables and should compare at least two groups. You should also use at least one visualization as part of your explorations.\n",
    "\n",
    "**Answer**: Distribution of Customer time NewYork :-\n",
    "\n",
    "This is non-symmetric unimodal  graph. We can see clearly from the graph most of the short term member are using from 10:00 hr to 20:00 hr .It means in evening more number of cycle required.Especially  between 12:00 hr to 18:00 hrs more number of cycle required for customer in Newyork. Less number of cycle required between 00:00 hr to 6:00 hrs compared to evening.\n",
    "\n",
    "We can see that peak demand of cycle is at around 15:00 hrs.We should have more stock of cycle during that time.\n",
    "\n",
    " \n",
    "Distribution of Subscriber time NewYork:-\n",
    "\n",
    "This is non-symmetric bimodal graph. We can see clearly from the graph most of the short term member are using from 5:00 hr to 23:00 hr .It means from morning to  night more number of cycle required.Specially between 6:00 hr to 10:00 and 14:00 hr to 20:00 hr more number of cycle required according to demand.\n",
    "\n",
    ".We can see that peak demand of cycle is at around 8:00 hr and 15:00 to 18:00 hrs.We should have more stock of cycle during that time.\n",
    "\n"
   ]
  },
  {
   "cell_type": "code",
   "execution_count": 30,
   "metadata": {
    "scrolled": true
   },
   "outputs": [
    {
     "data": {
      "image/png": "[encoded data removed]",
      "text/plain": [
       "<matplotlib.figure.Figure at 0x7f4aa67bf828>"
      ]
     },
     "metadata": {},
     "output_type": "display_data"
    },
    {
     "data": {
      "image/png": "[encoded data removed]",
      "text/plain": [
       "<matplotlib.figure.Figure at 0x7f4aa668bef0>"
      ]
     },
     "metadata": {},
     "output_type": "display_data"
    }
   ],
   "source": [
    "## Use this and additional cells to continue to explore the dataset. ##\n",
    "## Once you have performed your exploration, document your findings  ##\n",
    "## in the Markdown cell above. \n",
    "##\n",
    "## Use this and additional cells to answer Question 5. ##\n",
    "#%matplotlib notebook\n",
    "import matplotlib.pyplot as plt\n",
    "import numpy as np\n",
    "data_file_newyork='./data/NYC-2016-Summary.csv'\n",
    "\n",
    "def total_hr_duration(filename):\n",
    "    with open(filename,'r') as f_in:\n",
    "        reader=csv.DictReader(f_in)\n",
    "        hr=0\n",
    "        hr_distribution_sub=[]\n",
    "        hr_distribution_cus=[]\n",
    "        #count the total month distributation(newyrork)\n",
    "        for row in reader:\n",
    "            hr=row['hour']\n",
    "            if(row['user_type']=='Customer'):\n",
    "                hr_distribution_cus.append(int(hr))\n",
    "            else:\n",
    "                hr_distribution_sub.append(int(hr))\n",
    "                \n",
    "    #print(total_dur_cus,total_dur_sub)           \n",
    "    return hr_distribution_sub,hr_distribution_cus\n",
    "hr_distribution_sub,hr_distribution_cus=total_hr_duration(data_file_newyork)\n",
    "\n",
    "plt.hist(hr_distribution_cus,color='green',range=[0,23])\n",
    "plt.title(\"Distribution of CUSTOMER trip duration hr new york\")\n",
    "plt.xlabel(\"Duration(hr)\")\n",
    "plt.show()\n",
    "\n",
    "#plt.clf()\n",
    "\n",
    "plt.hist(hr_distribution_sub,color='red',range=[0,23])\n",
    "plt.title(\"Distribution of SUBSCRIBER trip duration hr new york\")\n",
    "plt.xlabel(\"Duration(hr)\")\n",
    "plt.show()\n",
    "\n"
   ]
  },
  {
   "cell_type": "markdown",
   "metadata": {},
   "source": [
    "<a id='conclusions'></a>\n",
    "## Conclusions\n",
    "\n",
    "Congratulations on completing the project! This is only a sampling of the data analysis process: from generating questions, wrangling the data, and to exploring the data. Normally, at this point in the data analysis process, you might want to draw conclusions about the data by performing a statistical test or fitting the data to a model for making predictions. There are also a lot of potential analyses that could be performed on the data which are not possible with only the data provided. For example, detailed location data has not been investigated. Where are the most commonly used docks? What are the most common routes? As another example, weather has potential to have a large impact on daily ridership. How much is ridership impacted when there is rain or snow? Are subscribers or customers affected more by changes in weather?\n",
    "\n",
    "**Question 7**: Putting the bike share data aside, think of a topic or field of interest where you would like to be able to apply the techniques of data science. What would you like to be able to learn from your chosen subject?\n",
    "\n",
    "**Answer**: Twitter Sentiment analysis\n",
    "\n",
    "I would like to find positive and negative tweets based on the words present in tweets.I will first collect a list of positive words and list of negative words .I will train my data through SVM (support vector machine)algorithm.\n",
    "\n",
    "Eg:-\n",
    "\n",
    "tweet1:-Today is awesome weather.\n",
    "\n",
    "The word awesome determine is positive tweet.\n",
    "\n",
    "tweet2:-The food is bad here\n",
    "\n",
    "The word bad determine ,it is negative tweet.\n",
    "\n",
    "Some sarcasm is really difficult to predict.\n",
    "\n",
    "I will take the tweet as input and pass it through my algorithm.It will determine how much percentage ,it  is positive tweet \n",
    "\n",
    "\n",
    "> **Tip**: If we want to share the results of our analysis with others, we aren't limited to giving them a copy of the jupyter Notebook (.ipynb) file. We can also export the Notebook output in a form that can be opened even for those without Python installed. From the **File** menu in the upper left, go to the **Download as** submenu. You can then choose a different format that can be viewed more generally, such as HTML (.html) or\n",
    "PDF (.pdf). You may need additional packages or software to perform these exports.\n",
    "\n",
    "> If you are working on this project via the Project Notebook page in the classroom, you can also submit this project directly from the workspace. **Before you do that**, you should save an HTML copy of the completed project to the workspace by running the code cell below. If it worked correctly, the output code should be a 0, and if you click on the jupyter icon in the upper left, you should see your .html document in the workspace directory. Alternatively, you can download the .html copy of your report following the steps in the previous paragraph, then _upload_ the report to the directory (by clicking the jupyter icon).\n",
    "\n",
    "> Either way, once you've gotten the .html report in your workspace, you can complete your submission by clicking on the \"Submit Project\" button to the lower-right hand side of the workspace."
   ]
  },
  {
   "cell_type": "code",
   "execution_count": 31,
   "metadata": {
    "scrolled": true
   },
   "outputs": [
    {
     "data": {
      "text/plain": [
       "0"
      ]
     },
     "execution_count": 31,
     "metadata": {},
     "output_type": "execute_result"
    }
   ],
   "source": [
    "from subprocess import call\n",
    "call(['python', '-m', 'nbconvert', 'Bike_Share_Analysis.ipynb'])"
   ]
  },
  {
   "cell_type": "code",
   "execution_count": null,
   "metadata": {
    "scrolled": true
   },
   "outputs": [],
   "source": []
  }
 ],
 "metadata": {
  "anaconda-cloud": {},
  "kernelspec": {
   "display_name": "Python 3",
   "language": "python",
   "name": "python3"
  },
  "language_info": {
   "codemirror_mode": {
    "name": "ipython",
    "version": 3
   },
   "file_extension": ".py",
   "mimetype": "text/x-python",
   "name": "python",
   "nbconvert_exporter": "python",
   "pygments_lexer": "ipython3",
   "version": "3.6.3"
  }
 },
 "nbformat": 4,
 "nbformat_minor": 1
}
